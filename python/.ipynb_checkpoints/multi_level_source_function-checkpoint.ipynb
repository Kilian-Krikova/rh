{
 "cells": [
  {
   "cell_type": "code",
   "execution_count": 1,
   "id": "a5eb3997-68ac-49c1-b9c0-f4fab825b346",
   "metadata": {},
   "outputs": [],
   "source": [
    "import numpy as np\n",
    "import matplotlib.pyplot as plt\n",
    "import rhanalyze\n",
    "from helita.sim import rh15d"
   ]
  },
  {
   "cell_type": "code",
   "execution_count": 2,
   "id": "a87d9807-8d09-4e0f-b6c6-a534d9a75d68",
   "metadata": {},
   "outputs": [
    {
     "name": "stdout",
     "output_type": "stream",
     "text": [
      "--- Read /mn/stornext/d18/RoCS/kiliankr/Hepsilon/cb24bih/3d/cb24bih_s385_CaH_Heps_se/output_aux.hdf5 file.\n",
      "--- Read /mn/stornext/d18/RoCS/kiliankr/Hepsilon/cb24bih/3d/cb24bih_s385_CaH_Heps_se/output_indata.hdf5 file.\n",
      "--- Read /mn/stornext/d18/RoCS/kiliankr/Hepsilon/cb24bih/3d/cb24bih_s385_CaH_Heps_se/output_ray.hdf5 file.\n",
      "--- Read /mn/stornext/d18/RoCS/kiliankr/Hepsilon/cb24bih/3d/cb24bih_s385_CaH_Heps_se_nokurucz/output_aux.hdf5 file.\n",
      "--- Read /mn/stornext/d18/RoCS/kiliankr/Hepsilon/cb24bih/3d/cb24bih_s385_CaH_Heps_se_nokurucz/output_indata.hdf5 file.\n",
      "--- Read /mn/stornext/d18/RoCS/kiliankr/Hepsilon/cb24bih/3d/cb24bih_s385_CaH_Heps_se_nokurucz/output_ray.hdf5 file.\n",
      "--- Read /mn/stornext/d18/RoCS/kiliankr/Hepsilon/cb24bih/3d/cb24bih_s385_CaH_Heps_HNEI_pop/output_aux.hdf5 file.\n",
      "--- Read /mn/stornext/d18/RoCS/kiliankr/Hepsilon/cb24bih/3d/cb24bih_s385_CaH_Heps_HNEI_pop/output_indata.hdf5 file.\n",
      "--- Read /mn/stornext/d18/RoCS/kiliankr/Hepsilon/cb24bih/3d/cb24bih_s385_CaH_Heps_HNEI_pop/output_ray.hdf5 file.\n",
      "--- Read /mn/stornext/d18/RoCS/kiliankr/Hepsilon/cb24bih/3d/cb24bih_s385_CaH_Heps_HNEI/output_aux.hdf5 file.\n",
      "--- Read /mn/stornext/d18/RoCS/kiliankr/Hepsilon/cb24bih/3d/cb24bih_s385_CaH_Heps_HNEI/output_indata.hdf5 file.\n",
      "--- Read /mn/stornext/d18/RoCS/kiliankr/Hepsilon/cb24bih/3d/cb24bih_s385_CaH_Heps_HNEI/output_ray.hdf5 file.\n"
     ]
    }
   ],
   "source": [
    "from helita.sim import rh15d\n",
    "path_3D = \"/mn/stornext/d18/RoCS/kiliankr/Hepsilon/cb24bih/3d/cb24bih_s385_CaH_Heps_se/\" # air\n",
    "data = rh15d.Rh15dout(path_3D)\n",
    "\n",
    "path_3D = \"/mn/stornext/d18/RoCS/kiliankr/Hepsilon/cb24bih/3d/cb24bih_s385_CaH_Heps_se_nokurucz/\" # air\n",
    "data_old = rh15d.Rh15dout(path_3D)\n",
    "\n",
    "path_3D_HNEI = '/mn/stornext/d18/RoCS/kiliankr/Hepsilon/cb24bih/3d/cb24bih_s385_CaH_Heps_HNEI_pop'\n",
    "data_hnei = rh15d.Rh15dout(path_3D_HNEI )\n",
    "\n",
    "path_3D_HNEI = '/mn/stornext/d18/RoCS/kiliankr/Hepsilon/cb24bih/3d/cb24bih_s385_CaH_Heps_HNEI'\n",
    "data_hnei_old = rh15d.Rh15dout(path_3D_HNEI)"
   ]
  },
  {
   "cell_type": "markdown",
   "id": "d7debe25-db96-4007-b8bf-732c9934a02a",
   "metadata": {},
   "source": [
    "## n_6/n_2"
   ]
  },
  {
   "cell_type": "code",
   "execution_count": 3,
   "id": "88f5712d-a4a3-45b5-9826-e315399b1c5d",
   "metadata": {},
   "outputs": [],
   "source": [
    "# Lyman series n=1, rh=0\n",
    "lyman_start = 0\n",
    "lyman_end = 6+1\n",
    "lyman_cont = 0\n",
    "\n",
    "lyman_rates_line = data.atom_H.Cij_line[lyman_start:lyman_end,...].data + data.atom_H.Rij_line[lyman_start:lyman_end,...].data\n",
    "lyman_rates_cont = data.atom_H.Cij_continuum[lyman_cont,...].data + data.atom_H.Rij_continuum[lyman_cont,...].data\n",
    "lyman_rates_out =  np.concatenate((lyman_rates_line, lyman_rates_cont[np.newaxis]))\n",
    "\n",
    "\n",
    "P_1 = np.sum(lyman_rates_out, axis=0)\n",
    "p_12 = lyman_rates_out[0,...]/P_1\n",
    "p_13 = lyman_rates_out[1,...]/P_1\n",
    "p_14 = lyman_rates_out[2,...]/P_1\n",
    "p_15 = lyman_rates_out[3,...]/P_1\n",
    "p_16 = lyman_rates_out[4,...]/P_1\n",
    "p_17 = lyman_rates_out[5,...]/P_1\n",
    "p_18 = lyman_rates_out[6,...]/P_1\n",
    "p_19 = lyman_rates_out[7,...]/P_1"
   ]
  },
  {
   "cell_type": "code",
   "execution_count": 4,
   "id": "01eb89e9-2bc0-4d44-ab65-3a12597b1981",
   "metadata": {},
   "outputs": [],
   "source": [
    "# Paschen series n=3, rh=2\n",
    "paschen_start = 13\n",
    "paschen_end = 17+1\n",
    "paschen_cont = 2\n",
    "\n",
    "paschen_rates_line_lyman = data.atom_H.Cji_line[1,...].data + data.atom_H.Rji_line[1,...].data\n",
    "paschen_rates_line_balmer = data.atom_H.Cji_line[7,...].data + data.atom_H.Rji_line[7,...].data\n",
    "paschen_rates_line = data.atom_H.Cij_line[paschen_start:paschen_end,...].data + data.atom_H.Rij_line[paschen_start:paschen_end,...].data\n",
    "paschen_rates_cont = data.atom_H.Cij_continuum[paschen_cont,...].data + data.atom_H.Rij_continuum[paschen_cont,...].data\n",
    "paschen_rates_out =  np.concatenate((paschen_rates_line_lyman[np.newaxis], paschen_rates_line_balmer[np.newaxis], paschen_rates_line, paschen_rates_cont[np.newaxis]))\n",
    "\n",
    "\n",
    "P_3 = np.sum(paschen_rates_out, axis=0)\n",
    "p_31 = paschen_rates_out[0,...]/P_3\n",
    "p_32 = paschen_rates_out[1,...]/P_3\n",
    "p_34 = paschen_rates_out[2,...]/P_3\n",
    "p_35 = paschen_rates_out[3,...]/P_3\n",
    "p_36 = paschen_rates_out[4,...]/P_3\n",
    "p_37 = paschen_rates_out[5,...]/P_3\n",
    "p_38 = paschen_rates_out[6,...]/P_3\n",
    "p_39 = paschen_rates_out[7,...]/P_3"
   ]
  },
  {
   "cell_type": "code",
   "execution_count": 5,
   "id": "ad238032-6d03-488f-bb4d-c720af57c6f6",
   "metadata": {},
   "outputs": [],
   "source": [
    "# Brackett series n=4, rh=3\n",
    "brackett_start = 18\n",
    "brackett_end = 21+1\n",
    "brackett_cont = 3\n",
    "\n",
    "brackett_rates_line_lyman = data.atom_H.Cji_line[2,...].data + data.atom_H.Rji_line[2,...].data\n",
    "brackett_rates_line_balmer = data.atom_H.Cji_line[8,...].data + data.atom_H.Rji_line[8,...].data\n",
    "brackett_rates_line_paschen = data.atom_H.Cji_line[13,...].data + data.atom_H.Rji_line[13,...].data\n",
    "brackett_rates_line = data.atom_H.Cij_line[brackett_start:brackett_end,...].data + data.atom_H.Rij_line[brackett_start:brackett_end,...].data\n",
    "brackett_rates_cont = data.atom_H.Cij_continuum[brackett_cont,...].data + data.atom_H.Rij_continuum[brackett_cont,...].data\n",
    "brackett_rates_out =  np.concatenate((brackett_rates_line_lyman[np.newaxis], brackett_rates_line_balmer[np.newaxis], brackett_rates_line_paschen[np.newaxis], brackett_rates_line, brackett_rates_cont[np.newaxis]))\n",
    "\n",
    "\n",
    "P_4 = np.sum(brackett_rates_out, axis=0)\n",
    "p_41 = brackett_rates_out[0,...]/P_4\n",
    "p_42 = brackett_rates_out[1,...]/P_4\n",
    "p_43 = brackett_rates_out[2,...]/P_4\n",
    "p_45 = brackett_rates_out[3,...]/P_4\n",
    "p_46 = brackett_rates_out[4,...]/P_4\n",
    "p_47 = brackett_rates_out[5,...]/P_4\n",
    "p_48 = brackett_rates_out[6,...]/P_4\n",
    "p_49 = brackett_rates_out[7,...]/P_4"
   ]
  },
  {
   "cell_type": "code",
   "execution_count": 6,
   "id": "093bbb86-91ca-44d7-9b9c-97066f71bbfe",
   "metadata": {},
   "outputs": [],
   "source": [
    "# Pfund series n=5, rh=4\n",
    "pfund_start = 22\n",
    "pfund_end = 24+1\n",
    "pfund_cont = 4\n",
    "\n",
    "pfund_rates_line_lyman = data.atom_H.Cji_line[3,...].data + data.atom_H.Rji_line[3,...].data\n",
    "pfund_rates_line_balmer = data.atom_H.Cji_line[9,...].data + data.atom_H.Rji_line[9,...].data\n",
    "pfund_rates_line_paschen = data.atom_H.Cji_line[14,...].data + data.atom_H.Rji_line[14,...].data\n",
    "pfund_rates_line_brackett = data.atom_H.Cji_line[18,...].data + data.atom_H.Rji_line[18,...].data\n",
    "pfund_rates_line = data.atom_H.Cij_line[pfund_start:pfund_end,...].data + data.atom_H.Rij_line[pfund_start:pfund_end,...].data\n",
    "pfund_rates_cont = data.atom_H.Cij_continuum[pfund_cont,...].data + data.atom_H.Rij_continuum[pfund_cont,...].data\n",
    "pfund_rates_out =  np.concatenate((pfund_rates_line_lyman[np.newaxis], pfund_rates_line_balmer[np.newaxis], pfund_rates_line_paschen[np.newaxis], pfund_rates_line_brackett[np.newaxis], pfund_rates_line, pfund_rates_cont[np.newaxis]))\n",
    "\n",
    "\n",
    "P_5 = np.sum(pfund_rates_out, axis=0)\n",
    "p_51 = pfund_rates_out[0,...]/P_5\n",
    "p_52 = pfund_rates_out[1,...]/P_5\n",
    "p_53 = pfund_rates_out[2,...]/P_5\n",
    "p_54 = pfund_rates_out[3,...]/P_5\n",
    "p_56 = pfund_rates_out[4,...]/P_5\n",
    "p_57 = pfund_rates_out[5,...]/P_5\n",
    "p_58 = pfund_rates_out[6,...]/P_5\n",
    "p_59 = pfund_rates_out[7,...]/P_5"
   ]
  },
  {
   "cell_type": "code",
   "execution_count": 7,
   "id": "6cc06b33-be35-40c8-80c2-0a4cca258b9b",
   "metadata": {},
   "outputs": [],
   "source": [
    "# Humphreys n=6, rh=5\n",
    "humphreys_start = 25\n",
    "humphreys_end = 26+1\n",
    "humphreys_cont = 5\n",
    "\n",
    "humphreys_rates_line_lyman = data.atom_H.Cji_line[4,...].data + data.atom_H.Rji_line[4,...].data\n",
    "humphreys_rates_line_balmer = data.atom_H.Cji_line[10,...].data + data.atom_H.Rji_line[10,...].data\n",
    "humphreys_rates_line_paschen = data.atom_H.Cji_line[15,...].data + data.atom_H.Rji_line[15,...].data\n",
    "humphreys_rates_line_brackett = data.atom_H.Cji_line[19,...].data + data.atom_H.Rji_line[19,...].data\n",
    "humphreys_rates_line_pfund = data.atom_H.Cji_line[22,...].data + data.atom_H.Rji_line[22,...].data\n",
    "humphreys_rates_line = data.atom_H.Cij_line[humphreys_start:humphreys_end,...].data + data.atom_H.Rij_line[humphreys_start:humphreys_end,...].data\n",
    "humphreys_rates_cont = data.atom_H.Cij_continuum[humphreys_cont,...].data + data.atom_H.Rij_continuum[humphreys_cont,...].data\n",
    "humphreys_rates_out =  np.concatenate((humphreys_rates_line_lyman[np.newaxis], humphreys_rates_line_balmer[np.newaxis], humphreys_rates_line_paschen[np.newaxis], humphreys_rates_line_brackett[np.newaxis], humphreys_rates_line_pfund[np.newaxis], humphreys_rates_line, humphreys_rates_cont[np.newaxis]))\n",
    "\n",
    "\n",
    "P_6 = np.sum(humphreys_rates_out, axis=0)\n",
    "p_61 = humphreys_rates_out[0,...]/P_6\n",
    "p_62 = humphreys_rates_out[1,...]/P_6\n",
    "p_63 = humphreys_rates_out[2,...]/P_6\n",
    "p_64 = humphreys_rates_out[3,...]/P_6\n",
    "p_65 = humphreys_rates_out[4,...]/P_6\n",
    "p_67 = humphreys_rates_out[5,...]/P_6\n",
    "p_68 = humphreys_rates_out[6,...]/P_6\n",
    "p_69 = humphreys_rates_out[7,...]/P_6"
   ]
  },
  {
   "cell_type": "code",
   "execution_count": 8,
   "id": "84d0dccf-dc96-4924-9e5f-3e0d6e54dff1",
   "metadata": {},
   "outputs": [],
   "source": [
    "# Kriki2 n=8, rh=7\n",
    "#kriki_start = 27\n",
    "#kriki_end = 27+1\n",
    "kriki2_cont = 7\n",
    "\n",
    "kriki2_rates_line_lyman = data.atom_H.Cji_line[6,...].data + data.atom_H.Rji_line[6,...].data\n",
    "kriki2_rates_line_balmer = data.atom_H.Cji_line[12,...].data + data.atom_H.Rji_line[12,...].data\n",
    "kriki2_rates_line_paschen = data.atom_H.Cji_line[17,...].data + data.atom_H.Rji_line[17,...].data\n",
    "kriki2_rates_line_brackett = data.atom_H.Cji_line[21,...].data + data.atom_H.Rji_line[21,...].data\n",
    "kriki2_rates_line_pfund = data.atom_H.Cji_line[24,...].data + data.atom_H.Rji_line[24,...].data\n",
    "kriki2_rates_line_humphreys = data.atom_H.Cji_line[26,...].data + data.atom_H.Rji_line[26,...].data\n",
    "kriki2_rates_line_kriki = data.atom_H.Cji_line[27,...].data + data.atom_H.Rji_line[27,...].data\n",
    "#kriki_rates_line = data.atom_H.Cij_line[kriki_start:kriki_end,...].data + data.atom_H.Rij_line[kriki_start:kriki_end,...].data\n",
    "kriki2_rates_cont = data.atom_H.Cij_continuum[kriki2_cont,...].data + data.atom_H.Rij_continuum[kriki2_cont,...].data\n",
    "kriki2_rates_out =  np.concatenate((kriki2_rates_line_lyman[np.newaxis], kriki2_rates_line_balmer[np.newaxis], kriki2_rates_line_paschen[np.newaxis], kriki2_rates_line_brackett[np.newaxis], kriki2_rates_line_pfund[np.newaxis], kriki2_rates_line_humphreys[np.newaxis], kriki2_rates_line_kriki[np.newaxis], kriki2_rates_cont[np.newaxis]))\n",
    "\n",
    "\n",
    "P_8 = np.sum(kriki2_rates_out, axis=0)\n",
    "p_81 = kriki2_rates_out[0,...]/P_8\n",
    "p_82 = kriki2_rates_out[1,...]/P_8\n",
    "p_83 = kriki2_rates_out[2,...]/P_8\n",
    "p_84 = kriki2_rates_out[3,...]/P_8\n",
    "p_85 = kriki2_rates_out[4,...]/P_8\n",
    "p_86 = kriki2_rates_out[5,...]/P_8\n",
    "p_87 = kriki2_rates_out[6,...]/P_8\n",
    "p_89 = kriki2_rates_out[7,...]/P_8"
   ]
  },
  {
   "cell_type": "code",
   "execution_count": 9,
   "id": "36503a28-f8a1-4e2d-8803-b09fdadcfd55",
   "metadata": {},
   "outputs": [],
   "source": [
    "# Continuum n=9, rh=8\n",
    "\n",
    "rates_cont = data.atom_H.Cji_continuum.data + data.atom_H.Rji_continuum.data\n",
    "\n",
    "P_9 = np.sum(rates_cont, axis=0)\n",
    "p_91 = rates_cont[0,...]/P_9\n",
    "p_92 = rates_cont[1,...]/P_9\n",
    "p_93 = rates_cont[2,...]/P_9\n",
    "p_94 = rates_cont[3,...]/P_9\n",
    "p_95 = rates_cont[4,...]/P_9\n",
    "p_96 = rates_cont[5,...]/P_9\n",
    "p_97 = rates_cont[6,...]/P_9\n",
    "p_98 = rates_cont[7,...]/P_9"
   ]
  },
  {
   "cell_type": "code",
   "execution_count": 10,
   "id": "672ed215-1c85-41d2-a5cd-04ca3b226f4b",
   "metadata": {},
   "outputs": [],
   "source": [
    "P_21 = data.atom_H.Cji_line[0,...].data + data.atom_H.Rji_line[0,...].data\n",
    "P_23 = data.atom_H.Cij_line[7,...].data + data.atom_H.Rij_line[7,...].data\n",
    "P_24 = data.atom_H.Cij_line[8,...].data + data.atom_H.Rij_line[8,...].data\n",
    "P_25 = data.atom_H.Cij_line[9,...].data + data.atom_H.Rij_line[9,...].data\n",
    "P_26 = data.atom_H.Cij_line[10,...].data + data.atom_H.Rij_line[10,...].data\n",
    "P_27 = data.atom_H.Cij_line[11,...].data + data.atom_H.Rij_line[11,...].data\n",
    "P_28 = data.atom_H.Cij_line[12,...].data + data.atom_H.Rij_line[12,...].data\n",
    "P_29 = data.atom_H.Cij_continuum[1,...].data + data.atom_H.Rij_continuum[1,...].data"
   ]
  },
  {
   "cell_type": "code",
   "execution_count": 11,
   "id": "1586648c-55a7-46d4-af06-72bd22fc13f6",
   "metadata": {},
   "outputs": [],
   "source": [
    "P_71 = data.atom_H.Cji_line[5,...].data + data.atom_H.Rji_line[5,...].data\n",
    "P_72 = data.atom_H.Cji_line[11,...].data + data.atom_H.Rji_line[11,...].data\n",
    "P_73 = data.atom_H.Cji_line[16,...].data + data.atom_H.Rji_line[16,...].data\n",
    "P_74 = data.atom_H.Cji_line[20,...].data + data.atom_H.Rji_line[20,...].data\n",
    "P_75 = data.atom_H.Cji_line[23,...].data + data.atom_H.Rji_line[23,...].data\n",
    "P_76 = data.atom_H.Cji_line[25,...].data + data.atom_H.Rji_line[25,...].data\n",
    "P_78 = data.atom_H.Cij_line[27,...].data + data.atom_H.Rij_line[27,...].data\n",
    "P_79 = data.atom_H.Cij_continuum[6,...].data + data.atom_H.Rij_continuum[6,...].data"
   ]
  },
  {
   "cell_type": "markdown",
   "id": "8e0a1d2a-093c-408c-b95a-2ff352a1323c",
   "metadata": {},
   "source": [
    "## Calculate ratio for whole column"
   ]
  },
  {
   "cell_type": "code",
   "execution_count": 49,
   "id": "864c5bae-b025-4eda-a580-0c7e7c31d5a9",
   "metadata": {},
   "outputs": [],
   "source": [
    "height_len = len(data.atmos.height_scale[0,0,:].data)"
   ]
  },
  {
   "cell_type": "code",
   "execution_count": 99,
   "id": "87cad001-1e83-4284-9f27-310fcd65c04e",
   "metadata": {},
   "outputs": [],
   "source": [
    "q_kij_ar = np.zeros((7, height_len))\n",
    "q_kji_ar = np.zeros((7, height_len))\n",
    "n2_n1_frac_height = np.zeros(height_len)"
   ]
  },
  {
   "cell_type": "code",
   "execution_count": 100,
   "id": "e6d8062e-9245-48d0-9930-feb21effb19c",
   "metadata": {},
   "outputs": [
    {
     "data": {
      "text/plain": [
       "467"
      ]
     },
     "execution_count": 100,
     "metadata": {},
     "output_type": "execute_result"
    }
   ],
   "source": [
    "height_len"
   ]
  },
  {
   "cell_type": "code",
   "execution_count": 101,
   "id": "adbf05ed-b0be-407a-96f9-1bccc26b2851",
   "metadata": {},
   "outputs": [],
   "source": [
    "x = 78\n",
    "y = 221\n",
    "#Loop over height\n",
    "for height in range(height_len):\n",
    "    matrix = np.array([[1, -p_13[x,y,height], -p_14[x,y,height], -p_15[x,y,height], -p_16[x,y,height], -p_18[x,y,height], -p_19[x,y,height]],\n",
    "                       [-p_31[x,y,height], 1, -p_34[x,y,height], -p_35[x,y,height], -p_36[x,y,height], -p_38[x,y,height], -p_39[x,y,height]],\n",
    "                       [-p_41[x,y,height], -p_43[x,y,height], 1, -p_45[x,y,height], -p_46[x,y,height], -p_48[x,y,height], -p_49[x,y,height]],\n",
    "                       [-p_51[x,y,height], -p_53[x,y,height], -p_54[x,y,height], 1, -p_56[x,y,height], -p_58[x,y,height], -p_59[x,y,height]],\n",
    "                       [-p_61[x,y,height], -p_63[x,y,height], -p_64[x,y,height], -p_65[x,y,height], 1, -p_68[x,y,height], -p_69[x,y,height]],\n",
    "                       [-p_81[x,y,height], -p_83[x,y,height], -p_84[x,y,height], -p_85[x,y,height], -p_86[x,y,height], 1, -p_89[x,y,height]],\n",
    "                       [-p_91[x,y,height], -p_93[x,y,height], -p_94[x,y,height], -p_95[x,y,height], -p_96[x,y,height], -p_98[x,y,height], 1]\n",
    "                      ])\n",
    "    sol_vector = np.array([p_17[x,y,height], p_37[x,y,height], p_47[x,y,height], p_57[x,y,height], p_67[x,y,height], p_87[x,y,height], p_97[x,y,height]])\n",
    "    \n",
    "    q_kij_ar[:,height] = np.linalg.inv(matrix).dot(sol_vector)\n",
    "    q_kji_ar[:,height] = 1-q_kij_ar[:,height]\n",
    "    \n",
    "    n2_n1_frac_height[height] = ((P_21[x,y,height]*q_kij_ar[0,height]  + P_23[x,y,height]*q_kij_ar[1,height] + P_24[x,y,height]*q_kij_ar[2,height] + P_25[x,y,height]*q_kij_ar[3,height] + P_26[x,y,height]*q_kij_ar[4,height] + P_27[x,y,height] + P_28[x,y,height]*q_kij_ar[5,height] + P_29[x,y,height]*q_kij_ar[6,height])/\n",
    "                                 (P_71[x,y,height]*q_kji_ar[0,height] + P_72[x,y,height] + P_73[x,y,height]*q_kji_ar[1,height] + P_74[x,y,height]*q_kji_ar[2,height] + P_75[x,y,height]*q_kji_ar[3,height] + P_76[x,y,height]*q_kji_ar[4,height] + P_78[x,y,height]*q_kji_ar[5,height] + P_79[x,y,height]*q_kji_ar[6,height]))"
   ]
  },
  {
   "cell_type": "code",
   "execution_count": 102,
   "id": "6beeb4ef-26e2-40a8-9c9b-952f39019174",
   "metadata": {
    "tags": []
   },
   "outputs": [],
   "source": [
    "n2_n1_frac_rh = data.atom_H.populations[6,x,y,:].data/data.atom_H.populations[1,x,y,:].data"
   ]
  },
  {
   "cell_type": "code",
   "execution_count": 103,
   "id": "c8981766-1735-4987-9fb4-4e9176a977da",
   "metadata": {},
   "outputs": [
    {
     "data": {
      "text/plain": [
       "(0.0, 2.0)"
      ]
     },
     "execution_count": 103,
     "metadata": {},
     "output_type": "execute_result"
    },
    {
     "data": {
      "image/png": "[encoded data removed]",
      "text/plain": [
       "<Figure size 432x288 with 1 Axes>"
      ]
     },
     "metadata": {
      "needs_background": "light"
     },
     "output_type": "display_data"
    }
   ],
   "source": [
    "plt.plot(data.atmos.height_scale[0,0,:].data/1e6, n2_n1_frac_height, label='interlocking')\n",
    "plt.plot(data.atmos.height_scale[0,0,:].data/1e6, n2_n1_frac_rh, label='rh')\n",
    "plt.legend()\n",
    "plt.yscale('log')\n",
    "plt.xlim([0,2])"
   ]
  },
  {
   "cell_type": "code",
   "execution_count": 104,
   "id": "de85126a-10b0-4408-b0df-11d0900f5258",
   "metadata": {},
   "outputs": [
    {
     "data": {
      "text/plain": [
       "[<matplotlib.lines.Line2D at 0x7fcf59a38970>]"
      ]
     },
     "execution_count": 104,
     "metadata": {},
     "output_type": "execute_result"
    },
    {
     "data": {
      "image/png": "[encoded data removed]",
      "text/plain": [
       "<Figure size 432x288 with 1 Axes>"
      ]
     },
     "metadata": {
      "needs_background": "light"
     },
     "output_type": "display_data"
    }
   ],
   "source": [
    "plt.plot(data.atmos.height_scale[0,0,:].data, (n2_n1_frac_rh-n2_n1_frac_height)/n2_n1_frac_rh)\n",
    "#plt.yscale('log')"
   ]
  },
  {
   "cell_type": "code",
   "execution_count": 105,
   "id": "96c91458-f6a7-41c0-890c-3743bc15a822",
   "metadata": {
    "tags": []
   },
   "outputs": [
    {
     "data": {
      "text/plain": [
       "<matplotlib.legend.Legend at 0x7fcf5998d640>"
      ]
     },
     "execution_count": 105,
     "metadata": {},
     "output_type": "execute_result"
    },
    {
     "data": {
      "image/png": "[encoded data removed]",
      "text/plain": [
       "<Figure size 720x432 with 1 Axes>"
      ]
     },
     "metadata": {
      "needs_background": "light"
     },
     "output_type": "display_data"
    }
   ],
   "source": [
    "height_Mm = data.atmos.height_scale[0,0,:].data/1e6\n",
    "height_ind = (height_Mm > 0) & (height_Mm < 1.5)\n",
    "plt.figure(figsize=[10,6])\n",
    "#plt.plot(height_Mm[height_ind], q_kij_ar[0,height_ind], label='q172')\n",
    "#plt.plot(height_Mm[height_ind], q_kij_ar[1,height_ind], label='q372')\n",
    "#plt.plot(height_Mm[height_ind], q_kij_ar[2,height_ind], label='q472')\n",
    "#plt.plot(height_Mm[height_ind], q_kij_ar[3,height_ind], label='q572')\n",
    "#plt.plot(height_Mm[height_ind], q_kij_ar[4,height_ind], label='q672')\n",
    "plt.plot(height_Mm[height_ind], q_kij_ar[5,height_ind], label='q872')\n",
    "plt.plot(height_Mm[height_ind], q_kij_ar[6,height_ind], label='q972')\n",
    "plt.yscale('log')\n",
    "plt.legend()\n",
    "#plt.xlim(0.0, 2)"
   ]
  },
  {
   "cell_type": "code",
   "execution_count": 83,
   "id": "9108cfc7-c28d-4500-94ea-afd92a5d04a6",
   "metadata": {},
   "outputs": [
    {
     "data": {
      "text/plain": [
       "[<matplotlib.lines.Line2D at 0x7fcf5b75f070>]"
      ]
     },
     "execution_count": 83,
     "metadata": {},
     "output_type": "execute_result"
    },
    {
     "data": {
      "image/png": "[encoded data removed]",
      "text/plain": [
       "<Figure size 432x288 with 1 Axes>"
      ]
     },
     "metadata": {
      "needs_background": "light"
     },
     "output_type": "display_data"
    }
   ],
   "source": [
    "plt.figure()\n",
    "plt.plot(height_Mm[height_ind], data.atmos.temperature[x,y,height_ind])\n",
    "#plt.xlim(0.0, )"
   ]
  },
  {
   "cell_type": "code",
   "execution_count": 85,
   "id": "13a292e6-9f17-446e-8d9a-a82bb2d9de4f",
   "metadata": {},
   "outputs": [
    {
     "data": {
      "text/html": [
       "<div><svg style=\"position: absolute; width: 0; height: 0; overflow: hidden\">\n",
       "<defs>\n",
       "<symbol id=\"icon-database\" viewBox=\"0 0 32 32\">\n",
       "<path d=\"M16 0c-8.837 0-16 2.239-16 5v4c0 2.761 7.163 5 16 5s16-2.239 16-5v-4c0-2.761-7.163-5-16-5z\"></path>\n",
       "<path d=\"M16 17c-8.837 0-16-2.239-16-5v6c0 2.761 7.163 5 16 5s16-2.239 16-5v-6c0 2.761-7.163 5-16 5z\"></path>\n",
       "<path d=\"M16 26c-8.837 0-16-2.239-16-5v6c0 2.761 7.163 5 16 5s16-2.239 16-5v-6c0 2.761-7.163 5-16 5z\"></path>\n",
       "</symbol>\n",
       "<symbol id=\"icon-file-text2\" viewBox=\"0 0 32 32\">\n",
       "<path d=\"M28.681 7.159c-0.694-0.947-1.662-2.053-2.724-3.116s-2.169-2.030-3.116-2.724c-1.612-1.182-2.393-1.319-2.841-1.319h-15.5c-1.378 0-2.5 1.121-2.5 2.5v27c0 1.378 1.122 2.5 2.5 2.5h23c1.378 0 2.5-1.122 2.5-2.5v-19.5c0-0.448-0.137-1.23-1.319-2.841zM24.543 5.457c0.959 0.959 1.712 1.825 2.268 2.543h-4.811v-4.811c0.718 0.556 1.584 1.309 2.543 2.268zM28 29.5c0 0.271-0.229 0.5-0.5 0.5h-23c-0.271 0-0.5-0.229-0.5-0.5v-27c0-0.271 0.229-0.5 0.5-0.5 0 0 15.499-0 15.5 0v7c0 0.552 0.448 1 1 1h7v19.5z\"></path>\n",
       "<path d=\"M23 26h-14c-0.552 0-1-0.448-1-1s0.448-1 1-1h14c0.552 0 1 0.448 1 1s-0.448 1-1 1z\"></path>\n",
       "<path d=\"M23 22h-14c-0.552 0-1-0.448-1-1s0.448-1 1-1h14c0.552 0 1 0.448 1 1s-0.448 1-1 1z\"></path>\n",
       "<path d=\"M23 18h-14c-0.552 0-1-0.448-1-1s0.448-1 1-1h14c0.552 0 1 0.448 1 1s-0.448 1-1 1z\"></path>\n",
       "</symbol>\n",
       "</defs>\n",
       "</svg>\n",
       "<style>/* CSS stylesheet for displaying xarray objects in jupyterlab.\n",
       " *\n",
       " */\n",
       "\n",
       ":root {\n",
       "  --xr-font-color0: var(--jp-content-font-color0, rgba(0, 0, 0, 1));\n",
       "  --xr-font-color2: var(--jp-content-font-color2, rgba(0, 0, 0, 0.54));\n",
       "  --xr-font-color3: var(--jp-content-font-color3, rgba(0, 0, 0, 0.38));\n",
       "  --xr-border-color: var(--jp-border-color2, #e0e0e0);\n",
       "  --xr-disabled-color: var(--jp-layout-color3, #bdbdbd);\n",
       "  --xr-background-color: var(--jp-layout-color0, white);\n",
       "  --xr-background-color-row-even: var(--jp-layout-color1, white);\n",
       "  --xr-background-color-row-odd: var(--jp-layout-color2, #eeeeee);\n",
       "}\n",
       "\n",
       "html[theme=dark],\n",
       "body.vscode-dark {\n",
       "  --xr-font-color0: rgba(255, 255, 255, 1);\n",
       "  --xr-font-color2: rgba(255, 255, 255, 0.54);\n",
       "  --xr-font-color3: rgba(255, 255, 255, 0.38);\n",
       "  --xr-border-color: #1F1F1F;\n",
       "  --xr-disabled-color: #515151;\n",
       "  --xr-background-color: #111111;\n",
       "  --xr-background-color-row-even: #111111;\n",
       "  --xr-background-color-row-odd: #313131;\n",
       "}\n",
       "\n",
       ".xr-wrap {\n",
       "  display: block;\n",
       "  min-width: 300px;\n",
       "  max-width: 700px;\n",
       "}\n",
       "\n",
       ".xr-text-repr-fallback {\n",
       "  /* fallback to plain text repr when CSS is not injected (untrusted notebook) */\n",
       "  display: none;\n",
       "}\n",
       "\n",
       ".xr-header {\n",
       "  padding-top: 6px;\n",
       "  padding-bottom: 6px;\n",
       "  margin-bottom: 4px;\n",
       "  border-bottom: solid 1px var(--xr-border-color);\n",
       "}\n",
       "\n",
       ".xr-header > div,\n",
       ".xr-header > ul {\n",
       "  display: inline;\n",
       "  margin-top: 0;\n",
       "  margin-bottom: 0;\n",
       "}\n",
       "\n",
       ".xr-obj-type,\n",
       ".xr-array-name {\n",
       "  margin-left: 2px;\n",
       "  margin-right: 10px;\n",
       "}\n",
       "\n",
       ".xr-obj-type {\n",
       "  color: var(--xr-font-color2);\n",
       "}\n",
       "\n",
       ".xr-sections {\n",
       "  padding-left: 0 !important;\n",
       "  display: grid;\n",
       "  grid-template-columns: 150px auto auto 1fr 20px 20px;\n",
       "}\n",
       "\n",
       ".xr-section-item {\n",
       "  display: contents;\n",
       "}\n",
       "\n",
       ".xr-section-item input {\n",
       "  display: none;\n",
       "}\n",
       "\n",
       ".xr-section-item input + label {\n",
       "  color: var(--xr-disabled-color);\n",
       "}\n",
       "\n",
       ".xr-section-item input:enabled + label {\n",
       "  cursor: pointer;\n",
       "  color: var(--xr-font-color2);\n",
       "}\n",
       "\n",
       ".xr-section-item input:enabled + label:hover {\n",
       "  color: var(--xr-font-color0);\n",
       "}\n",
       "\n",
       ".xr-section-summary {\n",
       "  grid-column: 1;\n",
       "  color: var(--xr-font-color2);\n",
       "  font-weight: 500;\n",
       "}\n",
       "\n",
       ".xr-section-summary > span {\n",
       "  display: inline-block;\n",
       "  padding-left: 0.5em;\n",
       "}\n",
       "\n",
       ".xr-section-summary-in:disabled + label {\n",
       "  color: var(--xr-font-color2);\n",
       "}\n",
       "\n",
       ".xr-section-summary-in + label:before {\n",
       "  display: inline-block;\n",
       "  content: '►';\n",
       "  font-size: 11px;\n",
       "  width: 15px;\n",
       "  text-align: center;\n",
       "}\n",
       "\n",
       ".xr-section-summary-in:disabled + label:before {\n",
       "  color: var(--xr-disabled-color);\n",
       "}\n",
       "\n",
       ".xr-section-summary-in:checked + label:before {\n",
       "  content: '▼';\n",
       "}\n",
       "\n",
       ".xr-section-summary-in:checked + label > span {\n",
       "  display: none;\n",
       "}\n",
       "\n",
       ".xr-section-summary,\n",
       ".xr-section-inline-details {\n",
       "  padding-top: 4px;\n",
       "  padding-bottom: 4px;\n",
       "}\n",
       "\n",
       ".xr-section-inline-details {\n",
       "  grid-column: 2 / -1;\n",
       "}\n",
       "\n",
       ".xr-section-details {\n",
       "  display: none;\n",
       "  grid-column: 1 / -1;\n",
       "  margin-bottom: 5px;\n",
       "}\n",
       "\n",
       ".xr-section-summary-in:checked ~ .xr-section-details {\n",
       "  display: contents;\n",
       "}\n",
       "\n",
       ".xr-array-wrap {\n",
       "  grid-column: 1 / -1;\n",
       "  display: grid;\n",
       "  grid-template-columns: 20px auto;\n",
       "}\n",
       "\n",
       ".xr-array-wrap > label {\n",
       "  grid-column: 1;\n",
       "  vertical-align: top;\n",
       "}\n",
       "\n",
       ".xr-preview {\n",
       "  color: var(--xr-font-color3);\n",
       "}\n",
       "\n",
       ".xr-array-preview,\n",
       ".xr-array-data {\n",
       "  padding: 0 5px !important;\n",
       "  grid-column: 2;\n",
       "}\n",
       "\n",
       ".xr-array-data,\n",
       ".xr-array-in:checked ~ .xr-array-preview {\n",
       "  display: none;\n",
       "}\n",
       "\n",
       ".xr-array-in:checked ~ .xr-array-data,\n",
       ".xr-array-preview {\n",
       "  display: inline-block;\n",
       "}\n",
       "\n",
       ".xr-dim-list {\n",
       "  display: inline-block !important;\n",
       "  list-style: none;\n",
       "  padding: 0 !important;\n",
       "  margin: 0;\n",
       "}\n",
       "\n",
       ".xr-dim-list li {\n",
       "  display: inline-block;\n",
       "  padding: 0;\n",
       "  margin: 0;\n",
       "}\n",
       "\n",
       ".xr-dim-list:before {\n",
       "  content: '(';\n",
       "}\n",
       "\n",
       ".xr-dim-list:after {\n",
       "  content: ')';\n",
       "}\n",
       "\n",
       ".xr-dim-list li:not(:last-child):after {\n",
       "  content: ',';\n",
       "  padding-right: 5px;\n",
       "}\n",
       "\n",
       ".xr-has-index {\n",
       "  font-weight: bold;\n",
       "}\n",
       "\n",
       ".xr-var-list,\n",
       ".xr-var-item {\n",
       "  display: contents;\n",
       "}\n",
       "\n",
       ".xr-var-item > div,\n",
       ".xr-var-item label,\n",
       ".xr-var-item > .xr-var-name span {\n",
       "  background-color: var(--xr-background-color-row-even);\n",
       "  margin-bottom: 0;\n",
       "}\n",
       "\n",
       ".xr-var-item > .xr-var-name:hover span {\n",
       "  padding-right: 5px;\n",
       "}\n",
       "\n",
       ".xr-var-list > li:nth-child(odd) > div,\n",
       ".xr-var-list > li:nth-child(odd) > label,\n",
       ".xr-var-list > li:nth-child(odd) > .xr-var-name span {\n",
       "  background-color: var(--xr-background-color-row-odd);\n",
       "}\n",
       "\n",
       ".xr-var-name {\n",
       "  grid-column: 1;\n",
       "}\n",
       "\n",
       ".xr-var-dims {\n",
       "  grid-column: 2;\n",
       "}\n",
       "\n",
       ".xr-var-dtype {\n",
       "  grid-column: 3;\n",
       "  text-align: right;\n",
       "  color: var(--xr-font-color2);\n",
       "}\n",
       "\n",
       ".xr-var-preview {\n",
       "  grid-column: 4;\n",
       "}\n",
       "\n",
       ".xr-var-name,\n",
       ".xr-var-dims,\n",
       ".xr-var-dtype,\n",
       ".xr-preview,\n",
       ".xr-attrs dt {\n",
       "  white-space: nowrap;\n",
       "  overflow: hidden;\n",
       "  text-overflow: ellipsis;\n",
       "  padding-right: 10px;\n",
       "}\n",
       "\n",
       ".xr-var-name:hover,\n",
       ".xr-var-dims:hover,\n",
       ".xr-var-dtype:hover,\n",
       ".xr-attrs dt:hover {\n",
       "  overflow: visible;\n",
       "  width: auto;\n",
       "  z-index: 1;\n",
       "}\n",
       "\n",
       ".xr-var-attrs,\n",
       ".xr-var-data {\n",
       "  display: none;\n",
       "  background-color: var(--xr-background-color) !important;\n",
       "  padding-bottom: 5px !important;\n",
       "}\n",
       "\n",
       ".xr-var-attrs-in:checked ~ .xr-var-attrs,\n",
       ".xr-var-data-in:checked ~ .xr-var-data {\n",
       "  display: block;\n",
       "}\n",
       "\n",
       ".xr-var-data > table {\n",
       "  float: right;\n",
       "}\n",
       "\n",
       ".xr-var-name span,\n",
       ".xr-var-data,\n",
       ".xr-attrs {\n",
       "  padding-left: 25px !important;\n",
       "}\n",
       "\n",
       ".xr-attrs,\n",
       ".xr-var-attrs,\n",
       ".xr-var-data {\n",
       "  grid-column: 1 / -1;\n",
       "}\n",
       "\n",
       "dl.xr-attrs {\n",
       "  padding: 0;\n",
       "  margin: 0;\n",
       "  display: grid;\n",
       "  grid-template-columns: 125px auto;\n",
       "}\n",
       "\n",
       ".xr-attrs dt,\n",
       ".xr-attrs dd {\n",
       "  padding: 0;\n",
       "  margin: 0;\n",
       "  float: left;\n",
       "  padding-right: 10px;\n",
       "  width: auto;\n",
       "}\n",
       "\n",
       ".xr-attrs dt {\n",
       "  font-weight: normal;\n",
       "  grid-column: 1;\n",
       "}\n",
       "\n",
       ".xr-attrs dt:hover span {\n",
       "  display: inline-block;\n",
       "  background: var(--xr-background-color);\n",
       "  padding-right: 10px;\n",
       "}\n",
       "\n",
       ".xr-attrs dd {\n",
       "  grid-column: 2;\n",
       "  white-space: pre-wrap;\n",
       "  word-break: break-all;\n",
       "}\n",
       "\n",
       ".xr-icon-database,\n",
       ".xr-icon-file-text2 {\n",
       "  display: inline-block;\n",
       "  vertical-align: middle;\n",
       "  width: 1em;\n",
       "  height: 1.5em !important;\n",
       "  stroke-width: 0;\n",
       "  stroke: currentColor;\n",
       "  fill: currentColor;\n",
       "}\n",
       "</style><pre class='xr-text-repr-fallback'>&lt;xarray.DataArray &#x27;tau_one_height&#x27; ()&gt;\n",
       "array(462115.28, dtype=float32)\n",
       "Coordinates:\n",
       "    wavelength  float64 397.1\n",
       "    x           float64 3.714e+06\n",
       "    y           float64 -1.052e+07\n",
       "Attributes:\n",
       "    units:      m\n",
       "    long_name:  Height of optical depth unity</pre><div class='xr-wrap' hidden><div class='xr-header'><div class='xr-obj-type'>xarray.DataArray</div><div class='xr-array-name'>'tau_one_height'</div></div><ul class='xr-sections'><li class='xr-section-item'><div class='xr-array-wrap'><input id='section-2ff417f6-28d6-4217-8f5d-4d1c8cdf8b04' class='xr-array-in' type='checkbox' checked><label for='section-2ff417f6-28d6-4217-8f5d-4d1c8cdf8b04' title='Show/hide data repr'><svg class='icon xr-icon-database'><use xlink:href='#icon-database'></use></svg></label><div class='xr-array-preview xr-preview'><span>4.621e+05</span></div><div class='xr-array-data'><pre>array(462115.28, dtype=float32)</pre></div></div></li><li class='xr-section-item'><input id='section-40497a38-77e7-401a-a29c-bcb1c9d87b8b' class='xr-section-summary-in' type='checkbox'  checked><label for='section-40497a38-77e7-401a-a29c-bcb1c9d87b8b' class='xr-section-summary' >Coordinates: <span>(3)</span></label><div class='xr-section-inline-details'></div><div class='xr-section-details'><ul class='xr-var-list'><li class='xr-var-item'><div class='xr-var-name'><span>wavelength</span></div><div class='xr-var-dims'>()</div><div class='xr-var-dtype'>float64</div><div class='xr-var-preview xr-preview'>397.1</div><input id='attrs-ed910bfd-9ea3-4b8c-9d25-7902f543f0d7' class='xr-var-attrs-in' type='checkbox' ><label for='attrs-ed910bfd-9ea3-4b8c-9d25-7902f543f0d7' title='Show/Hide attributes'><svg class='icon xr-icon-file-text2'><use xlink:href='#icon-file-text2'></use></svg></label><input id='data-35c9d76b-3ea1-4dc1-bc87-867e143e235e' class='xr-var-data-in' type='checkbox'><label for='data-35c9d76b-3ea1-4dc1-bc87-867e143e235e' title='Show/Hide data repr'><svg class='icon xr-icon-database'><use xlink:href='#icon-database'></use></svg></label><div class='xr-var-attrs'><dl class='xr-attrs'><dt><span>units :</span></dt><dd>nm</dd></dl></div><div class='xr-var-data'><pre>array(397.12019869)</pre></div></li><li class='xr-var-item'><div class='xr-var-name'><span>x</span></div><div class='xr-var-dims'>()</div><div class='xr-var-dtype'>float64</div><div class='xr-var-preview xr-preview'>3.714e+06</div><input id='attrs-3912b281-1b0b-40d5-b202-6b5c259fb188' class='xr-var-attrs-in' type='checkbox' ><label for='attrs-3912b281-1b0b-40d5-b202-6b5c259fb188' title='Show/Hide attributes'><svg class='icon xr-icon-file-text2'><use xlink:href='#icon-file-text2'></use></svg></label><input id='data-473387c8-0712-4b1f-8f0f-e46f598dcf4e' class='xr-var-data-in' type='checkbox'><label for='data-473387c8-0712-4b1f-8f0f-e46f598dcf4e' title='Show/Hide data repr'><svg class='icon xr-icon-database'><use xlink:href='#icon-database'></use></svg></label><div class='xr-var-attrs'><dl class='xr-attrs'><dt><span>units :</span></dt><dd>m</dd></dl></div><div class='xr-var-data'><pre>array(3714286.)</pre></div></li><li class='xr-var-item'><div class='xr-var-name'><span>y</span></div><div class='xr-var-dims'>()</div><div class='xr-var-dtype'>float64</div><div class='xr-var-preview xr-preview'>-1.052e+07</div><input id='attrs-777f3a25-0235-4e16-93a5-7ef3daf58c89' class='xr-var-attrs-in' type='checkbox' ><label for='attrs-777f3a25-0235-4e16-93a5-7ef3daf58c89' title='Show/Hide attributes'><svg class='icon xr-icon-file-text2'><use xlink:href='#icon-file-text2'></use></svg></label><input id='data-0ce403a9-1a32-4f89-8b8c-bef213ed526a' class='xr-var-data-in' type='checkbox'><label for='data-0ce403a9-1a32-4f89-8b8c-bef213ed526a' title='Show/Hide data repr'><svg class='icon xr-icon-database'><use xlink:href='#icon-database'></use></svg></label><div class='xr-var-attrs'><dl class='xr-attrs'><dt><span>units :</span></dt><dd>m</dd></dl></div><div class='xr-var-data'><pre>array(-10523930.)</pre></div></li></ul></div></li><li class='xr-section-item'><input id='section-842f5184-5f78-471c-90b3-7de63c142da3' class='xr-section-summary-in' type='checkbox'  checked><label for='section-842f5184-5f78-471c-90b3-7de63c142da3' class='xr-section-summary' >Attributes: <span>(2)</span></label><div class='xr-section-inline-details'></div><div class='xr-section-details'><dl class='xr-attrs'><dt><span>units :</span></dt><dd>m</dd><dt><span>long_name :</span></dt><dd>Height of optical depth unity</dd></dl></div></li></ul></div></div>"
      ],
      "text/plain": [
       "<xarray.DataArray 'tau_one_height' ()>\n",
       "array(462115.28, dtype=float32)\n",
       "Coordinates:\n",
       "    wavelength  float64 397.1\n",
       "    x           float64 3.714e+06\n",
       "    y           float64 -1.052e+07\n",
       "Attributes:\n",
       "    units:      m\n",
       "    long_name:  Height of optical depth unity"
      ]
     },
     "execution_count": 85,
     "metadata": {},
     "output_type": "execute_result"
    }
   ],
   "source": [
    "wvl_search_rh15d = 397.1202\n",
    "wvl_ind = np.argmin(np.abs(data.ray.wavelength.data - wvl_search_rh15d))\n",
    "\n",
    "data.ray.tau_one_height[x,y,wvl_ind]"
   ]
  },
  {
   "cell_type": "code",
   "execution_count": 88,
   "id": "21860b13-bacb-4402-92eb-a46bbc31f82b",
   "metadata": {},
   "outputs": [],
   "source": [
    "x = 20\n",
    "y = 20\n",
    "#Loop over height\n",
    "for height in range(height_len):\n",
    "    matrix = np.array([[1, -p_13[x,y,height], -p_14[x,y,height], -p_15[x,y,height], -p_16[x,y,height], -p_18[x,y,height], -p_19[x,y,height]],\n",
    "                       [-p_31[x,y,height], 1, -p_34[x,y,height], -p_35[x,y,height], -p_36[x,y,height], -p_38[x,y,height], -p_39[x,y,height]],\n",
    "                       [-p_41[x,y,height], -p_43[x,y,height], 1, -p_45[x,y,height], -p_46[x,y,height], -p_48[x,y,height], -p_49[x,y,height]],\n",
    "                       [-p_51[x,y,height], -p_53[x,y,height], -p_54[x,y,height], 1, -p_56[x,y,height], -p_58[x,y,height], -p_59[x,y,height]],\n",
    "                       [-p_61[x,y,height], -p_63[x,y,height], -p_64[x,y,height], -p_65[x,y,height], 1, -p_68[x,y,height], -p_69[x,y,height]],\n",
    "                       [-p_81[x,y,height], -p_83[x,y,height], -p_84[x,y,height], -p_85[x,y,height], -p_86[x,y,height], 1, -p_89[x,y,height]],\n",
    "                       [-p_91[x,y,height], -p_93[x,y,height], -p_94[x,y,height], -p_95[x,y,height], -p_96[x,y,height], -p_98[x,y,height], 1]\n",
    "                      ])\n",
    "    sol_vector = np.array([p_17[x,y,height], p_37[x,y,height], p_47[x,y,height], p_57[x,y,height], p_67[x,y,height], p_87[x,y,height], p_97[x,y,height]])\n",
    "    \n",
    "    q_kij_ar[:,height] = np.linalg.inv(matrix).dot(sol_vector)\n",
    "    q_kji_ar[:,height] = 1-q_kij_ar[:,height]\n",
    "    \n",
    "    n2_n1_frac_height[height] = ((P_21[x,y,height]*q_kij_ar[0,height]  + P_23[x,y,height]*q_kij_ar[1,height] + P_24[x,y,height]*q_kij_ar[2,height] + P_25[x,y,height]*q_kij_ar[3,height] + P_26[x,y,height] + P_27[x,y,height]*q_kij_ar[4,height] + P_28[x,y,height]*q_kij_ar[5,height] + P_29[x,y,height]*q_kij_ar[6,height])/\n",
    "                                 (P_71[x,y,height]*q_kji_ar[0,height] + P_72[x,y,height] + P_73[x,y,height]*q_kji_ar[1,height] + P_74[x,y,height]*q_kji_ar[2,height] + P_75[x,y,height]*q_kji_ar[3,height] + P_76[x,y,height]*q_kji_ar[4,height] + P_78[x,y,height]*q_kji_ar[5,height] + P_79[x,y,height]*q_kji_ar[6,height]))"
   ]
  },
  {
   "cell_type": "code",
   "execution_count": 89,
   "id": "01665740-fada-41e1-9af9-5b26b21bfa9a",
   "metadata": {
    "tags": []
   },
   "outputs": [],
   "source": [
    "n2_n1_frac_rh = data.atom_H.populations[6,x,y,:].data/data.atom_H.populations[1,x,y,:].data"
   ]
  },
  {
   "cell_type": "code",
   "execution_count": 90,
   "id": "969009a0-b1e3-46d4-b986-cc4e930d2f24",
   "metadata": {},
   "outputs": [
    {
     "data": {
      "text/plain": [
       "(0.0, 2.0)"
      ]
     },
     "execution_count": 90,
     "metadata": {},
     "output_type": "execute_result"
    },
    {
     "data": {
      "image/png": "[encoded data removed]",
      "text/plain": [
       "<Figure size 432x288 with 1 Axes>"
      ]
     },
     "metadata": {
      "needs_background": "light"
     },
     "output_type": "display_data"
    }
   ],
   "source": [
    "plt.plot(data.atmos.height_scale[0,0,:].data/1e6, n2_n1_frac_height, label='interlocking')\n",
    "plt.plot(data.atmos.height_scale[0,0,:].data/1e6, n2_n1_frac_rh, label='rh')\n",
    "plt.legend()\n",
    "plt.yscale('log')\n",
    "plt.xlim([0,2])"
   ]
  },
  {
   "cell_type": "code",
   "execution_count": 91,
   "id": "3b8b3d9e-9bd2-4902-a5d6-54c4160ac70f",
   "metadata": {},
   "outputs": [
    {
     "data": {
      "text/plain": [
       "[<matplotlib.lines.Line2D at 0x7fcf5aec26d0>]"
      ]
     },
     "execution_count": 91,
     "metadata": {},
     "output_type": "execute_result"
    },
    {
     "data": {
      "image/png": "[encoded data removed]",
      "text/plain": [
       "<Figure size 432x288 with 1 Axes>"
      ]
     },
     "metadata": {
      "needs_background": "light"
     },
     "output_type": "display_data"
    }
   ],
   "source": [
    "plt.plot(data.atmos.height_scale[0,0,:].data, (n2_n1_frac_rh-n2_n1_frac_height)/n2_n1_frac_rh)\n",
    "#plt.yscale('log')"
   ]
  },
  {
   "cell_type": "code",
   "execution_count": 93,
   "id": "08d04473-b5b7-4f48-b0ce-ddcdcd7603ea",
   "metadata": {
    "tags": []
   },
   "outputs": [
    {
     "data": {
      "text/plain": [
       "<matplotlib.legend.Legend at 0x7fcf5bea3250>"
      ]
     },
     "execution_count": 93,
     "metadata": {},
     "output_type": "execute_result"
    },
    {
     "data": {
      "image/png": "[encoded data removed]",
      "text/plain": [
       "<Figure size 720x432 with 1 Axes>"
      ]
     },
     "metadata": {
      "needs_background": "light"
     },
     "output_type": "display_data"
    }
   ],
   "source": [
    "height_Mm = data.atmos.height_scale[0,0,:].data/1e6\n",
    "height_ind = (height_Mm > 0) & (height_Mm < 1.5)\n",
    "plt.figure(figsize=[10,6])\n",
    "#plt.plot(height_Mm[height_ind], q_kij_ar[0,height_ind], label='q172')\n",
    "#plt.plot(height_Mm[height_ind], q_kij_ar[1,height_ind], label='q372')\n",
    "#plt.plot(height_Mm[height_ind], q_kij_ar[2,height_ind], label='q472')\n",
    "#plt.plot(height_Mm[height_ind], q_kij_ar[3,height_ind], label='q572')\n",
    "#plt.plot(height_Mm[height_ind], q_kij_ar[4,height_ind], label='q672')\n",
    "plt.plot(height_Mm[height_ind], q_kij_ar[5,height_ind], label='q872')\n",
    "plt.plot(height_Mm[height_ind], q_kij_ar[6,height_ind], label='q972')\n",
    "plt.yscale('log')\n",
    "plt.legend()\n",
    "#plt.xlim(0.0, 2)"
   ]
  },
  {
   "cell_type": "code",
   "execution_count": 48,
   "id": "dd8251ab-09c1-4ecd-9116-2c8c37465216",
   "metadata": {},
   "outputs": [
    {
     "data": {
      "text/plain": [
       "(0.0, 2.0)"
      ]
     },
     "execution_count": 48,
     "metadata": {},
     "output_type": "execute_result"
    },
    {
     "data": {
      "image/png": "[encoded data removed]",
      "text/plain": [
       "<Figure size 432x288 with 1 Axes>"
      ]
     },
     "metadata": {
      "needs_background": "light"
     },
     "output_type": "display_data"
    }
   ],
   "source": [
    "plt.figure()\n",
    "plt.plot(height_Mm[height_ind], data.atmos.temperature[x,y,height_ind])\n",
    "plt.xlim(0.0, 2)"
   ]
  },
  {
   "cell_type": "code",
   "execution_count": 106,
   "id": "a82648a0-5a7f-4542-a23f-0f9014c1b3eb",
   "metadata": {},
   "outputs": [],
   "source": [
    "g_u = 98\n",
    "g_l = 8\n",
    "sum_u = P_71[x,y,height]*q_kji_ar[0,height] + P_73[x,y,height]*q_kji_ar[1,height] + P_74[x,y,height]*q_kji_ar[2,height] + P_75[x,y,height]*q_kji_ar[3,height] + P_76[x,y,height]*q_kji_ar[4,height] + P_78[x,y,height]*q_kji_ar[5,height] + P_79[x,y,height]*q_kji_ar[6,height]\n",
    "sum_l = P_21[x,y,height]*q_kij_ar[0,height] + P_23[x,y,height]*q_kij_ar[1,height] + P_24[x,y,height]*q_kij_ar[2,height] + P_25[x,y,height]*q_kij_ar[3,height] + P_26[x,y,height]*q_kij_ar[4,height] + P_28[x,y,height]*q_kij_ar[5,height] + P_29[x,y,height]*q_kij_ar[6,height]"
   ]
  },
  {
   "cell_type": "code",
   "execution_count": 95,
   "id": "b0a477d8-671d-43b3-af85-546433c041a6",
   "metadata": {},
   "outputs": [
    {
     "data": {
      "text/plain": [
       "(504, 504, 467)"
      ]
     },
     "execution_count": 95,
     "metadata": {},
     "output_type": "execute_result"
    }
   ],
   "source": [
    "P_71.shape"
   ]
  },
  {
   "cell_type": "code",
   "execution_count": null,
   "id": "ab4da88f-7f7c-4082-9cd3-58d12d5d9f03",
   "metadata": {},
   "outputs": [],
   "source": []
  }
 ],
 "metadata": {
  "kernelspec": {
   "display_name": "Python 3",
   "language": "python",
   "name": "python3"
  },
  "language_info": {
   "codemirror_mode": {
    "name": "ipython",
    "version": 3
   },
   "file_extension": ".py",
   "mimetype": "text/x-python",
   "name": "python",
   "nbconvert_exporter": "python",
   "pygments_lexer": "ipython3",
   "version": "3.8.5"
  }
 },
 "nbformat": 4,
 "nbformat_minor": 5
}
