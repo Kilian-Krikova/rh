{
 "cells": [
  {
   "cell_type": "code",
   "execution_count": 1,
   "metadata": {},
   "outputs": [
    {
     "name": "stderr",
     "output_type": "stream",
     "text": [
      "Duplicate key in file PosixPath('/Users/kiliankr/.matplotlib/stylelib/A&Aonecolum.mplstyle'), line 85 ('legend.frameon: False')\n",
      "Duplicate key in file PosixPath('/Users/kiliankr/.matplotlib/stylelib/Poster.mplstyle'), line 92 ('legend.frameon: False')\n",
      "Duplicate key in file PosixPath('/Users/kiliankr/.matplotlib/stylelib/grid.mplstyle'), line 24 ('legend.frameon: False')\n",
      "Duplicate key in file PosixPath('/Users/kiliankr/.matplotlib/stylelib/grid.mplstyle'), line 25 ('legend.numpoints: 1')\n",
      "Duplicate key in file PosixPath('/Users/kiliankr/.matplotlib/stylelib/Poster_black.mplstyle'), line 20 ('axes.spines.top: True')\n",
      "Duplicate key in file PosixPath('/Users/kiliankr/.matplotlib/stylelib/Poster_black.mplstyle'), line 21 ('axes.spines.right: True ')\n",
      "Duplicate key in file PosixPath('/Users/kiliankr/.matplotlib/stylelib/Poster_black.mplstyle'), line 95 ('legend.frameon: False')\n",
      "Duplicate key in file PosixPath('/Users/kiliankr/.matplotlib/stylelib/A&Atwocolum.mplstyle'), line 85 ('legend.frameon: False')\n",
      "Duplicate key in file PosixPath('/Users/kiliankr/.matplotlib/stylelib/Pres.mplstyle'), line 20 ('axes.spines.top: True')\n",
      "Duplicate key in file PosixPath('/Users/kiliankr/.matplotlib/stylelib/Pres.mplstyle'), line 21 ('axes.spines.right: True ')\n",
      "Duplicate key in file PosixPath('/Users/kiliankr/.matplotlib/stylelib/Pres.mplstyle'), line 95 ('legend.frameon: False')\n"
     ]
    }
   ],
   "source": [
    "import matplotlib.pyplot as plt\n",
    "from rhanalyze.rhatmos import input_atmos\n",
    "import astropy\n",
    "import numpy as np"
   ]
  },
  {
   "cell_type": "code",
   "execution_count": 2,
   "metadata": {},
   "outputs": [],
   "source": [
    "a = input_atmos(\"THREE_D_PLANE\", '/Users/kiliankr/Documents/Codes/RH-Uiten/Atmos/FALC_04x04x82.atmos')"
   ]
  },
  {
   "cell_type": "code",
   "execution_count": 27,
   "metadata": {},
   "outputs": [],
   "source": [
    "atmos = input_atmos(\"THREE_D_PLANE\", '/Users/kiliankr/Documents/PhD/Simulations/Bifrost/cb24bih/bifrost_cb24bih_s385_fullv.ncdf', data_format='HDF5')"
   ]
  },
  {
   "cell_type": "code",
   "execution_count": 14,
   "metadata": {},
   "outputs": [],
   "source": [
    "atmos.decrease_resolution('THREE_D_PLANE', 28, 28)"
   ]
  },
  {
   "cell_type": "code",
   "execution_count": 13,
   "metadata": {},
   "outputs": [
    {
     "name": "stdout",
     "output_type": "stream",
     "text": [
      "Slice along a y position\n"
     ]
    }
   ],
   "source": [
    "atmos.cut_slice(271,1)"
   ]
  },
  {
   "cell_type": "code",
   "execution_count": 28,
   "metadata": {},
   "outputs": [],
   "source": [
    "atmos.cut_box(78,221,20,20)"
   ]
  },
  {
   "cell_type": "code",
   "execution_count": 29,
   "metadata": {},
   "outputs": [],
   "source": [
    "atmos.write('cb24bih_s385_x78_y221_width20.atmos')"
   ]
  },
  {
   "cell_type": "code",
   "execution_count": 19,
   "metadata": {},
   "outputs": [
    {
     "data": {
      "text/plain": [
       "(41, 41, 467)"
      ]
     },
     "execution_count": 19,
     "metadata": {},
     "output_type": "execute_result"
    }
   ],
   "source": [
    "atmos.T.shape"
   ]
  },
  {
   "cell_type": "code",
   "execution_count": null,
   "metadata": {},
   "outputs": [],
   "source": []
  }
 ],
 "metadata": {
  "interpreter": {
   "hash": "b0fa6594d8f4cbf19f97940f81e996739fb7646882a419484c72d19e05852a7e"
  },
  "kernelspec": {
   "display_name": "Python 3.9.10 64-bit",
   "language": "python",
   "name": "python3"
  },
  "language_info": {
   "codemirror_mode": {
    "name": "ipython",
    "version": 3
   },
   "file_extension": ".py",
   "mimetype": "text/x-python",
   "name": "python",
   "nbconvert_exporter": "python",
   "pygments_lexer": "ipython3",
   "version": "3.8.12"
  },
  "orig_nbformat": 4
 },
 "nbformat": 4,
 "nbformat_minor": 2
}
